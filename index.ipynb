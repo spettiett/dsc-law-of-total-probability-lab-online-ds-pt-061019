{
 "cells": [
  {
   "cell_type": "markdown",
   "metadata": {},
   "source": [
    "# Partitioning and Law of Total Probability - Lab\n",
    "\n",
    "## Introduction \n",
    "In this lab, you'll practice your knowledge of the law of total probability. In probability theory, the law (or formula) of total probability is a fundamental rule relating **marginal probabilities** to **conditional probabilities**.\n",
    "\n",
    "## Objectives\n",
    "\n",
    "You will be able to:\n",
    "* Understand and explain the concept of event space and partitioning \n",
    "* State the law of total probabilities based on a partitioned event space\n",
    "* Understand and be able to perform partitioning based on known and unknown probabilities to solve a problem"
   ]
  },
  {
   "cell_type": "markdown",
   "metadata": {},
   "source": [
    "## Exercise 1\n",
    "Imagine you have two hats: one has 4 red balls and 6 green balls, the other has 6 red and 4 green. We toss a fair coin, if heads, you will pick a random ball from the first hat, if tails you will pick one from the second hat. \n",
    "\n",
    "What is the probability of getting a red ball?"
   ]
  },
  {
   "cell_type": "code",
   "execution_count": 1,
   "metadata": {},
   "outputs": [
    {
     "data": {
      "text/plain": [
       "0.5"
      ]
     },
     "execution_count": 1,
     "metadata": {},
     "output_type": "execute_result"
    }
   ],
   "source": [
    "# Your code here\n",
    "## P(Red) = P(Red|H) · P(H) + P(Red|T) · P(T)\n",
    "\n",
    "p_red = (4/10 * 1/2) + (6/10 * 1/2)\n",
    "p_red"
   ]
  },
  {
   "cell_type": "markdown",
   "metadata": {},
   "source": [
    "## Exercise 2\n",
    "A soccer team wins 60% of its games when it scores the first goal, and 10% of its games when the opposing team \n",
    "scores first. \n",
    "\n",
    "If the team scores the first goal about 30% of the time, what fraction of the games does it win?"
   ]
  },
  {
   "cell_type": "code",
   "execution_count": 3,
   "metadata": {},
   "outputs": [
    {
     "data": {
      "text/plain": [
       "0.25"
      ]
     },
     "execution_count": 3,
     "metadata": {},
     "output_type": "execute_result"
    }
   ],
   "source": [
    "# Your code here\n",
    "# Let W be the event that the team wins, \n",
    "# SF be the event that it scores first. \n",
    "# Then according to law of total probs.\n",
    "\n",
    "# P(W) = P(W|SF) · P(SF) + P(W|SFc) · P(SFc)\n",
    "\n",
    "p_w = (0.60 * 0.30) + (0.10 * 0.70)\n",
    "p_w"
   ]
  },
  {
   "cell_type": "markdown",
   "metadata": {},
   "source": [
    "## Exercise 3"
   ]
  },
  {
   "cell_type": "markdown",
   "metadata": {},
   "source": [
    "In Europe, except for regular gas, cars regularly run on Diesel as well. At a gas station in Paris; \n",
    "\n",
    "\n",
    "* 40% of the customers fills up with Diesel (event G1) \n",
    "* 35% with gas \"Super 95\" (event G2)\n",
    "* 25% with gas \"Super 98\" (event G3). \n",
    "\n",
    "\n",
    "* 30% of the customers who buy Diesel fill their tank completely (event F). \n",
    "* For \"Super 95\" and \"Super 98\", these numbers are  60% and 50% respectively.\n",
    "\n",
    "\n",
    "- Compute the probability that the next customer completely fills their tank and buys Super 95. \n",
    "- Compute the probability that the next customer completely fills their tank\n",
    "- Given that the next customer fills their tank completely, compute the probability that they bought Diesel. \n",
    "\n",
    "Hint: Consult the theorems for conditional probability, check for dependence or independence of events"
   ]
  },
  {
   "cell_type": "code",
   "execution_count": 9,
   "metadata": {},
   "outputs": [],
   "source": [
    "# Your code here"
   ]
  },
  {
   "cell_type": "code",
   "execution_count": 4,
   "metadata": {},
   "outputs": [
    {
     "data": {
      "text/plain": [
       "0.21"
      ]
     },
     "execution_count": 4,
     "metadata": {},
     "output_type": "execute_result"
    }
   ],
   "source": [
    "# Compute the probability that the next customer completely fills their tank and buys Super 95.\n",
    "   #35% with gas \"Super 95\" (event G2) * For \"Super 95\" and \"Super 98\", these numbers are 60% and 50% respectively\n",
    "full_super_95 = 0.35*0.6 \n",
    "full_super_95 # correct answer: 0.21"
   ]
  },
  {
   "cell_type": "code",
   "execution_count": 5,
   "metadata": {},
   "outputs": [
    {
     "data": {
      "text/plain": [
       "0.45499999999999996"
      ]
     },
     "execution_count": 5,
     "metadata": {},
     "output_type": "execute_result"
    }
   ],
   "source": [
    "# Compute the probability that the next customer completely fills their tank\n",
    "full_diesel = 0.4*0.3\n",
    "full_super_98 = 0.25*0.5\n",
    "\n",
    "p_full = full_super_95 + full_diesel + full_super_98\n",
    "p_full # correct answer: 0.455"
   ]
  },
  {
   "cell_type": "code",
   "execution_count": 6,
   "metadata": {},
   "outputs": [
    {
     "data": {
      "text/plain": [
       "0.26373626373626374"
      ]
     },
     "execution_count": 6,
     "metadata": {},
     "output_type": "execute_result"
    }
   ],
   "source": [
    "# Given that the next customer fills their tank completely, compute the probability that they bought Diesel.\n",
    "p_diesel_given_full = (0.4*0.3)/p_full\n",
    "p_diesel_given_full # correct answer: 0.263736"
   ]
  },
  {
   "cell_type": "markdown",
   "metadata": {},
   "source": [
    "## Exercise 4"
   ]
  },
  {
   "cell_type": "markdown",
   "metadata": {},
   "source": [
    "United airlines operates flights from JFK to Amsterdam, to Brussels and to Copenhagen. As you may know, flights are overbooked fairly often. Let's denote the probability of the flight to Amsterdam being overbooked equal to 40%, the probability of the flight to Brussels being overbooked equal to 25%, and the probability of the flight to Copenhagen to be overbooked being equal to 35%. You can assume that these events of overbooking are independent events."
   ]
  },
  {
   "cell_type": "markdown",
   "metadata": {},
   "source": [
    "- Compute the probability that all the flights are overbooked.\n",
    "- Compute the probability of having at least one flight which is not overbooked.\n",
    "- Compute the probability that exactly one flight is overbooked."
   ]
  },
  {
   "cell_type": "code",
   "execution_count": 13,
   "metadata": {},
   "outputs": [],
   "source": [
    "# Your code here"
   ]
  },
  {
   "cell_type": "code",
   "execution_count": 7,
   "metadata": {},
   "outputs": [
    {
     "data": {
      "text/plain": [
       "0.034999999999999996"
      ]
     },
     "execution_count": 7,
     "metadata": {},
     "output_type": "execute_result"
    }
   ],
   "source": [
    "# Compute the probability that all the flights are overbooked.\n",
    "p_all_overbooked = 0.25*0.40*0.35\n",
    "p_all_overbooked # correct answer: 0.035"
   ]
  },
  {
   "cell_type": "code",
   "execution_count": 8,
   "metadata": {},
   "outputs": [
    {
     "data": {
      "text/plain": [
       "0.965"
      ]
     },
     "execution_count": 8,
     "metadata": {},
     "output_type": "execute_result"
    }
   ],
   "source": [
    "# Compute the probability of having at least one flight which is not overbooked.\n",
    "at_least_one_not = 1-p_all_overbooked\n",
    "at_least_one_not  # correct answer: 0.965"
   ]
  },
  {
   "cell_type": "code",
   "execution_count": 9,
   "metadata": {},
   "outputs": [
    {
     "data": {
      "text/plain": [
       "0.45"
      ]
     },
     "execution_count": 9,
     "metadata": {},
     "output_type": "execute_result"
    }
   ],
   "source": [
    "# Compute the probability that exactly one flight is overbooked.\n",
    "# p_just_one = p(amsterdam_just one) + p(brussels_just_one) + p(cop_just_one)\n",
    "p_amsterdam_just_one = 0.4*0.75*0.65 # (1-p for other flights)\n",
    "p_brussels_just_one = 0.6*0.25*0.65\n",
    "p_copenhagen_just_one = 0.6*0.75*0.35\n",
    "\n",
    "# When two events, A and B, are mutually exclusive, there is no overlap between these events. \n",
    "# The probability that A and B is the sum of the probability of each event\n",
    "p_just_one = p_amsterdam_just_one + p_brussels_just_one + p_copenhagen_just_one\n",
    "\n",
    "\n",
    "p_just_one # 0.45"
   ]
  },
  {
   "cell_type": "markdown",
   "metadata": {},
   "source": [
    "## Exercise 5\n",
    "You have three bags that each contain 100 marbles:\n",
    "\n",
    "- Bag 1 has 75 red and 25 blue marbles;\n",
    "- Bag 2 has 60 red and 40 blue marbles;\n",
    "- Bag 3 has 45 red and 55 blue marbles.\n",
    "\n",
    "You choose one of the bags at random and then pick a marble from the chosen bag, also at random. \n",
    "\n",
    "What is the probability that the chosen marble is red?\n"
   ]
  },
  {
   "cell_type": "code",
   "execution_count": 11,
   "metadata": {},
   "outputs": [
    {
     "data": {
      "text/plain": [
       "0.6"
      ]
     },
     "execution_count": 11,
     "metadata": {},
     "output_type": "execute_result"
    }
   ],
   "source": [
    "# Your code here\n",
    "# Let R be the event that the chosen marble is red. Let Bi be the event that you choose Bag i. \n",
    "# We already know that\n",
    "\n",
    "P_R_given_B1=0.75\n",
    "P_R_given_B2=0.60\n",
    "P_R_given_B3=0.45\n",
    "\n",
    "#We choose our partitions as B1,B2,B3. \n",
    "#Note that this is a valid partition because, firstly, the Bi's are disjoint (only one of them can happen), \n",
    "# and secondly, because their union is the entire sample space as one the bags will be chosen for sure.\n",
    "# i.e., P(B1∪B2∪B3)=1. Using the law of total probability, we can write\n",
    "\n",
    "# P(R)=P(R|B1)P(B1)+P(R|B2)P(B2)+P(R|B3)P(B3)\n",
    "\n",
    "P_R=(0.75*1/3) +(0.60* 1/3)+(0.45* 1/3)\n",
    "P_R"
   ]
  },
  {
   "cell_type": "markdown",
   "metadata": {},
   "source": [
    "## Summary \n",
    "\n",
    "In this lab you practiced conditional probability and its theorem with some simple problems. The key takeaway from this lab is to to be able to identify random events as dependent or independent and calculating the probability of their occurrence using appropriate methods. Next, you'll take this knowledge a step further and run simulations with conditional and total probability. "
   ]
  }
 ],
 "metadata": {
  "kernelspec": {
   "display_name": "Python 3",
   "language": "python",
   "name": "python3"
  },
  "language_info": {
   "codemirror_mode": {
    "name": "ipython",
    "version": 3
   },
   "file_extension": ".py",
   "mimetype": "text/x-python",
   "name": "python",
   "nbconvert_exporter": "python",
   "pygments_lexer": "ipython3",
   "version": "3.6.6"
  }
 },
 "nbformat": 4,
 "nbformat_minor": 2
}
